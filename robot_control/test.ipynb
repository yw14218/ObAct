{
 "cells": [
  {
   "cell_type": "code",
   "execution_count": 3,
   "metadata": {},
   "outputs": [],
   "source": [
    "import numpy as np\n",
    "from scipy.spatial.transform import Rotation as R\n",
    "\n",
    "# Translation components\n",
    "x, y, z = [-0.0683247, 0.00957573, 0.0818357]\n",
    "\n",
    "# Quaternion components (qx, qy, qz, qw)\n",
    "quat = [0.606729, -0.596466, 0.372879, -0.370229]\n",
    "\n",
    "# Convert quaternion to rotation matrix\n",
    "rotation_matrix = R.from_quat(quat).as_matrix()\n",
    "\n",
    "# Construct the 4x4 homogeneous transformation matrix\n",
    "homo_matrix = np.eye(4)\n",
    "homo_matrix[:3, :3] = rotation_matrix\n",
    "homo_matrix[:3, 3] = [x, y, z]\n",
    "\n",
    "np.save(\"d405_extrinsic.npy\", homo_matrix)\n",
    "\n"
   ]
  }
 ],
 "metadata": {
  "kernelspec": {
   "display_name": "obact",
   "language": "python",
   "name": "python3"
  },
  "language_info": {
   "codemirror_mode": {
    "name": "ipython",
    "version": 3
   },
   "file_extension": ".py",
   "mimetype": "text/x-python",
   "name": "python",
   "nbconvert_exporter": "python",
   "pygments_lexer": "ipython3",
   "version": "3.9.21"
  }
 },
 "nbformat": 4,
 "nbformat_minor": 2
}
